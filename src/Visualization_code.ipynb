{
 "cells": [
  {
   "cell_type": "code",
   "execution_count": 4,
   "id": "b8449db8-b78f-4bda-8ca0-98c53348b1ad",
   "metadata": {},
   "outputs": [
    {
     "name": "stdout",
     "output_type": "stream",
     "text": [
      "Note: you may need to restart the kernel to use updated packages.\n"
     ]
    },
    {
     "name": "stderr",
     "output_type": "stream",
     "text": [
      "  WARNING: The scripts py.test.exe and pytest.exe are installed in 'D:\\2.IDEs\\Miniconda\\envs\\522_group_proj\\Scripts' which is not on PATH.\n",
      "  Consider adding this directory to PATH or, if you prefer to suppress this warning, use --no-warn-script-location.\n"
     ]
    },
    {
     "name": "stdout",
     "output_type": "stream",
     "text": [
      "Collecting pytest\n",
      "  Downloading pytest-7.4.3-py3-none-any.whl.metadata (7.9 kB)\n",
      "Collecting iniconfig (from pytest)\n",
      "  Downloading iniconfig-2.0.0-py3-none-any.whl (5.9 kB)\n",
      "Requirement already satisfied: packaging in d:\\2.ides\\miniconda\\envs\\522_group_proj\\lib\\site-packages (from pytest) (23.2)\n",
      "Collecting pluggy<2.0,>=0.12 (from pytest)\n",
      "  Downloading pluggy-1.3.0-py3-none-any.whl.metadata (4.3 kB)\n",
      "Requirement already satisfied: colorama in d:\\2.ides\\miniconda\\envs\\522_group_proj\\lib\\site-packages (from pytest) (0.4.6)\n",
      "Downloading pytest-7.4.3-py3-none-any.whl (325 kB)\n",
      "   ---------------------------------------- 0.0/325.1 kB ? eta -:--:--\n",
      "   - -------------------------------------- 10.2/325.1 kB ? eta -:--:--\n",
      "   ---- ---------------------------------- 41.0/325.1 kB 495.5 kB/s eta 0:00:01\n",
      "   --------------------------- ------------ 225.3/325.1 kB 2.3 MB/s eta 0:00:01\n",
      "   ---------------------------------------- 325.1/325.1 kB 2.2 MB/s eta 0:00:00\n",
      "Downloading pluggy-1.3.0-py3-none-any.whl (18 kB)\n",
      "Installing collected packages: pluggy, iniconfig, pytest\n",
      "Successfully installed iniconfig-2.0.0 pluggy-1.3.0 pytest-7.4.3\n"
     ]
    }
   ],
   "source": [
    "pip install pytest"
   ]
  },
  {
   "cell_type": "code",
   "execution_count": null,
   "id": "713970f6-1ca3-4777-b26f-2fe706ca6841",
   "metadata": {},
   "outputs": [],
   "source": [
    "## Modularized Visualization function\n",
    "\n",
    "def plot_numeric_distributions(data, target, numeric_features=None, stack_order=None):\n",
    "    \"\"\"\n",
    "    Plot histograms for all numeric features in the dataset.\n",
    "\n",
    "    Parameters\n",
    "    ----------\n",
    "    - data : DataFrame\n",
    "        the dataset\n",
    "    - target : str\n",
    "        name of the target variable\n",
    "    - numeric_features : {'None', 'list'}, optional\n",
    "        list of names of the numeric features, by default 'None'\n",
    "\n",
    "    Returns\n",
    "    -------\n",
    "    object\n",
    "        alt.Chart\n",
    "        \n",
    "    \"\"\"\n",
    "\n",
    "    if numeric_features == None:\n",
    "        numeric_features = np.array(data.select_dtypes(include=['float64', 'int64']).columns)\n",
    "\n",
    "    final_plots = alt.Chart(data).mark_bar(opacity=0.3).encode(\n",
    "        alt.X(alt.repeat()).type('quantitative').bin(maxbins=20),\n",
    "        alt.Y('count()', stack=None).title(''),\n",
    "        alt.Color(target).sort(stack_order).title(target).scale(scheme='viridis')\n",
    "    ).properties(\n",
    "        width = 150,\n",
    "        height = 150\n",
    "    ).repeat(\n",
    "        numeric_features,\n",
    "        columns = 4\n",
    "    )\n",
    "    return final_plots"
   ]
  }
 ],
 "metadata": {
  "kernelspec": {
   "display_name": "522_group_proj",
   "language": "python",
   "name": "522_group_proj"
  },
  "language_info": {
   "codemirror_mode": {
    "name": "ipython",
    "version": 3
   },
   "file_extension": ".py",
   "mimetype": "text/x-python",
   "name": "python",
   "nbconvert_exporter": "python",
   "pygments_lexer": "ipython3",
   "version": "3.12.0"
  }
 },
 "nbformat": 4,
 "nbformat_minor": 5
}
