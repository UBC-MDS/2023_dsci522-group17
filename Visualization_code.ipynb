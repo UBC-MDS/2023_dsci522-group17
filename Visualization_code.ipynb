{
 "cells": [
  {
   "cell_type": "code",
   "execution_count": 2,
   "id": "713970f6-1ca3-4777-b26f-2fe706ca6841",
   "metadata": {},
   "outputs": [
    {
     "ename": "NameError",
     "evalue": "name 'pd' is not defined",
     "output_type": "error",
     "traceback": [
      "\u001b[1;31m---------------------------------------------------------------------------\u001b[0m",
      "\u001b[1;31mNameError\u001b[0m                                 Traceback (most recent call last)",
      "Cell \u001b[1;32mIn[2], line 30\u001b[0m\n\u001b[0;32m     27\u001b[0m     \u001b[38;5;28;01mreturn\u001b[39;00m final_plots\n\u001b[0;32m     29\u001b[0m \u001b[38;5;66;03m## Sample Dataset\u001b[39;00m\n\u001b[1;32m---> 30\u001b[0m sample_data \u001b[38;5;241m=\u001b[39m \u001b[43mpd\u001b[49m\u001b[38;5;241m.\u001b[39mDataFrame({\n\u001b[0;32m     31\u001b[0m     \u001b[38;5;124m'\u001b[39m\u001b[38;5;124mAge\u001b[39m\u001b[38;5;124m'\u001b[39m: [\u001b[38;5;241m25\u001b[39m, \u001b[38;5;241m25\u001b[39m,\u001b[38;5;241m25\u001b[39m, \u001b[38;5;241m30\u001b[39m, \u001b[38;5;241m35\u001b[39m, \u001b[38;5;241m40\u001b[39m, \u001b[38;5;241m45\u001b[39m],\n\u001b[0;32m     32\u001b[0m     \u001b[38;5;124m'\u001b[39m\u001b[38;5;124mIncome\u001b[39m\u001b[38;5;124m'\u001b[39m: [\u001b[38;5;241m50000\u001b[39m,\u001b[38;5;241m50000\u001b[39m,\u001b[38;5;241m50000\u001b[39m, \u001b[38;5;241m60000\u001b[39m, \u001b[38;5;241m75000\u001b[39m, \u001b[38;5;241m90000\u001b[39m, \u001b[38;5;241m100000\u001b[39m],\n\u001b[0;32m     33\u001b[0m     \u001b[38;5;124m'\u001b[39m\u001b[38;5;124mScore\u001b[39m\u001b[38;5;124m'\u001b[39m: [\u001b[38;5;241m80\u001b[39m, \u001b[38;5;241m85\u001b[39m,\u001b[38;5;241m75\u001b[39m,\u001b[38;5;241m65\u001b[39m, \u001b[38;5;241m90\u001b[39m, \u001b[38;5;241m92\u001b[39m, \u001b[38;5;241m88\u001b[39m],\n\u001b[0;32m     34\u001b[0m     \u001b[38;5;124m'\u001b[39m\u001b[38;5;124mTarget\u001b[39m\u001b[38;5;124m'\u001b[39m: [\u001b[38;5;124m'\u001b[39m\u001b[38;5;124mgood\u001b[39m\u001b[38;5;124m'\u001b[39m, \u001b[38;5;124m'\u001b[39m\u001b[38;5;124mbad\u001b[39m\u001b[38;5;124m'\u001b[39m, \u001b[38;5;124m'\u001b[39m\u001b[38;5;124mgood\u001b[39m\u001b[38;5;124m'\u001b[39m, \u001b[38;5;124m'\u001b[39m\u001b[38;5;124mgood\u001b[39m\u001b[38;5;124m'\u001b[39m, \u001b[38;5;124m'\u001b[39m\u001b[38;5;124mbad\u001b[39m\u001b[38;5;124m'\u001b[39m, \u001b[38;5;124m'\u001b[39m\u001b[38;5;124mbad\u001b[39m\u001b[38;5;124m'\u001b[39m, \u001b[38;5;124m'\u001b[39m\u001b[38;5;124mbad\u001b[39m\u001b[38;5;124m'\u001b[39m],\n\u001b[0;32m     35\u001b[0m     \u001b[38;5;124m'\u001b[39m\u001b[38;5;124mLaugh\u001b[39m\u001b[38;5;124m'\u001b[39m: [\u001b[38;5;124m'\u001b[39m\u001b[38;5;124mhaha\u001b[39m\u001b[38;5;124m'\u001b[39m, \u001b[38;5;124m'\u001b[39m\u001b[38;5;124mhahahah\u001b[39m\u001b[38;5;124m'\u001b[39m, \u001b[38;5;124m'\u001b[39m\u001b[38;5;124maha\u001b[39m\u001b[38;5;124m'\u001b[39m, \u001b[38;5;124m'\u001b[39m\u001b[38;5;124mhahahah\u001b[39m\u001b[38;5;124m'\u001b[39m, \u001b[38;5;124m'\u001b[39m\u001b[38;5;124maha\u001b[39m\u001b[38;5;124m'\u001b[39m, \u001b[38;5;124m'\u001b[39m\u001b[38;5;124mhahahah\u001b[39m\u001b[38;5;124m'\u001b[39m, \u001b[38;5;124m'\u001b[39m\u001b[38;5;124maha\u001b[39m\u001b[38;5;124m'\u001b[39m]\n\u001b[0;32m     36\u001b[0m })\n\u001b[0;32m     38\u001b[0m plots \u001b[38;5;241m=\u001b[39m plot_numeric_distributions(sample_data, \u001b[38;5;124m'\u001b[39m\u001b[38;5;124mTarget\u001b[39m\u001b[38;5;124m'\u001b[39m)\n\u001b[0;32m     39\u001b[0m plots\n",
      "\u001b[1;31mNameError\u001b[0m: name 'pd' is not defined"
     ]
    }
   ],
   "source": [
    "## Modularized Visualization function\n",
    "\n",
    "def plot_numeric_distributions(data, target, numeric_features=None, stack_order=None):\n",
    "    \"\"\"\n",
    "    Plot histograms for all numeric features in the dataset.\n",
    "\n",
    "    Parameters:\n",
    "    - data (DataFrame): the dataset\n",
    "    - target (str): name of the target variable\n",
    "    - numeric_features (list, optional): list of names of the numeric features.\n",
    "    \"\"\"\n",
    "\n",
    "    if numeric_features == None:\n",
    "        numeric_features = np.array(data.select_dtypes(include=['float64', 'int64']).columns)\n",
    "\n",
    "    final_plots = alt.Chart(data).mark_bar(opacity=0.3).encode(\n",
    "        alt.X(alt.repeat()).type('quantitative').bin(maxbins=20),\n",
    "        alt.Y('count()', stack=None).title(''),\n",
    "        alt.Color(target).sort(stack_order).title(target).scale(scheme='viridis')\n",
    "    ).properties(\n",
    "        width = 150,\n",
    "        height = 150\n",
    "    ).repeat(\n",
    "        numeric_features,\n",
    "        columns = 4\n",
    "    )\n",
    "    return final_plots\n",
    "\n",
    "## Sample Dataset\n",
    "sample_data = pd.DataFrame({\n",
    "    'Age': [25, 25,25, 30, 35, 40, 45],\n",
    "    'Income': [50000,50000,50000, 60000, 75000, 90000, 100000],\n",
    "    'Score': [80, 85,75,65, 90, 92, 88],\n",
    "    'Target': ['good', 'bad', 'good', 'good', 'bad', 'bad', 'bad'],\n",
    "    'Laugh': ['haha', 'hahahah', 'aha', 'hahahah', 'aha', 'hahahah', 'aha']\n",
    "})\n",
    "\n",
    "plots = plot_numeric_distributions(sample_data, 'Target')\n",
    "plots"
   ]
  },
  {
   "cell_type": "code",
   "execution_count": null,
   "id": "f79be03a-d4ed-48af-9028-1852253ecd31",
   "metadata": {},
   "outputs": [],
   "source": []
  }
 ],
 "metadata": {
  "kernelspec": {
   "display_name": "522_group_proj",
   "language": "python",
   "name": "522_group_proj"
  },
  "language_info": {
   "codemirror_mode": {
    "name": "ipython",
    "version": 3
   },
   "file_extension": ".py",
   "mimetype": "text/x-python",
   "name": "python",
   "nbconvert_exporter": "python",
   "pygments_lexer": "ipython3",
   "version": "3.12.0"
  }
 },
 "nbformat": 4,
 "nbformat_minor": 5
}
