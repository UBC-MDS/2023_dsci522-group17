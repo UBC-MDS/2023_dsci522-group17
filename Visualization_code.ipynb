{
 "cells": [
  {
   "cell_type": "code",
   "execution_count": null,
   "id": "713970f6-1ca3-4777-b26f-2fe706ca6841",
   "metadata": {},
   "outputs": [],
   "source": [
    "## Modularized Visualization function\n",
    "\n",
    "def plot_numeric_distributions(data, target, numeric_features=None, stack_order=None):\n",
    "    \"\"\"\n",
    "    Plot histograms for all numeric features in the dataset.\n",
    "\n",
    "    Parameters\n",
    "    ----------\n",
    "    - data : DataFrame\n",
    "        the dataset\n",
    "    - target : str\n",
    "        name of the target variable\n",
    "    - numeric_features : {'None', 'list'}, optional\n",
    "        list of names of the numeric features, by default 'None'\n",
    "\n",
    "    Returns\n",
    "    -------\n",
    "    object\n",
    "        alt.Chart\n",
    "        \n",
    "    \"\"\"\n",
    "\n",
    "    if numeric_features == None:\n",
    "        numeric_features = np.array(data.select_dtypes(include=['float64', 'int64']).columns)\n",
    "\n",
    "    final_plots = alt.Chart(data).mark_bar(opacity=0.3).encode(\n",
    "        alt.X(alt.repeat()).type('quantitative').bin(maxbins=20),\n",
    "        alt.Y('count()', stack=None).title(''),\n",
    "        alt.Color(target).sort(stack_order).title(target).scale(scheme='viridis')\n",
    "    ).properties(\n",
    "        width = 150,\n",
    "        height = 150\n",
    "    ).repeat(\n",
    "        numeric_features,\n",
    "        columns = 4\n",
    "    )\n",
    "    return final_plots\n",
    "\n",
    "## Sample Dataset\n",
    "sample_data = pd.DataFrame({\n",
    "    'Age': [25, 25,25, 30, 35, 40, 45],\n",
    "    'Income': [50000,50000,50000, 60000, 75000, 90000, 100000],\n",
    "    'Score': [80, 85,75,65, 90, 92, 88],\n",
    "    'Target': ['good', 'bad', 'good', 'good', 'bad', 'bad', 'bad'],\n",
    "    'Laugh': ['haha', 'hahahah', 'aha', 'hahahah', 'aha', 'hahahah', 'aha']\n",
    "})\n",
    "\n",
    "plots = plot_numeric_distributions(sample_data, 'Target')\n",
    "plots"
   ]
  },
  {
   "cell_type": "code",
   "execution_count": null,
   "id": "f79be03a-d4ed-48af-9028-1852253ecd31",
   "metadata": {},
   "outputs": [],
   "source": []
  }
 ],
 "metadata": {
  "kernelspec": {
   "display_name": "522_group_proj",
   "language": "python",
   "name": "522_group_proj"
  },
  "language_info": {
   "codemirror_mode": {
    "name": "ipython",
    "version": 3
   },
   "file_extension": ".py",
   "mimetype": "text/x-python",
   "name": "python",
   "nbconvert_exporter": "python",
   "pygments_lexer": "ipython3",
   "version": "3.12.0"
  }
 },
 "nbformat": 4,
 "nbformat_minor": 5
}
