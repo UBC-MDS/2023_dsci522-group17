{
 "cells": [
  {
   "cell_type": "markdown",
   "id": "6b61742f-a371-41c8-a96d-b0c00ba84d23",
   "metadata": {},
   "source": [
    "# Code of Conduct\n",
    "### DSCI 522 - Group 17\n",
    "##### November 15, 2023"
   ]
  },
  {
   "cell_type": "markdown",
   "id": "96adf912-6372-4117-a139-5a2db83d08e0",
   "metadata": {},
   "source": []
  }
 ],
 "metadata": {
  "kernelspec": {
   "display_name": "Python 3 (ipykernel)",
   "language": "python",
   "name": "python3"
  },
  "language_info": {
   "codemirror_mode": {
    "name": "ipython",
    "version": 3
   },
   "file_extension": ".py",
   "mimetype": "text/x-python",
   "name": "python",
   "nbconvert_exporter": "python",
   "pygments_lexer": "ipython3",
   "version": "3.11.4"
  }
 },
 "nbformat": 4,
 "nbformat_minor": 5
}
