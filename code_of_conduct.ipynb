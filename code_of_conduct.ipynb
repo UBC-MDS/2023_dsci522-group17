{
 "cells": [
  {
   "cell_type": "markdown",
   "id": "6b61742f-a371-41c8-a96d-b0c00ba84d23",
   "metadata": {},
   "source": [
    "# Code of Conduct\n",
    "### DSCI 522 - Group 17\n",
    "##### November 15, 2023"
   ]
  },
  {
   "cell_type": "markdown",
   "id": "96adf912-6372-4117-a139-5a2db83d08e0",
   "metadata": {},
   "source": [
    "#### Our Standards\n",
    "\n",
    "Every member of our community has the right to have their identity respected. DSCI 522 Group 17 is dedicated to providing a positive experience for everyone, regardless of age, gender identity and expression, sexual orientation, disability, physical appearance, body size, ethnicity, nationality, race, or religion (or lack thereof), education, or socio-economic status."
   ]
  },
  {
   "cell_type": "markdown",
   "id": "282ec492-ac25-4f3c-b8e0-96773530cd06",
   "metadata": {},
   "source": [
    "#### Expected Behavior\n",
    "\n",
    "All participants in our events and communications are expected to show respect and courtesy to others. All interactions should be professional regardless of platform: either online or in-person. In order to foster a positive and professional learning environment we encourage the following kinds of behaviours in all Group 17 events and platforms:\n",
    "\n",
    "- Use welcoming and inclusive language\n",
    "- Be respectful of different viewpoints and experiences\n",
    "- Gracefully accept constructive criticism\n",
    "- Focus on what is best for the community\n",
    "- Show courtesy and respect towards other community members"
   ]
  },
  {
   "cell_type": "markdown",
   "id": "1cc6e57e-07f2-47ce-b455-9009c29079be",
   "metadata": {},
   "source": [
    "#### Inappropriate Behavior\n",
    "\n",
    "Examples of unacceptable behavior by participants include:\n",
    "\n",
    "- Harassment of any participants in any form\n",
    "- Deliberate intimidation, stalking, or following\n",
    "- Logging or taking screenshots of online activity for harassment purposes\n",
    "- Publishing others' private information, such as a physical or electronic address, without explicit permission\n",
    "- Violent threats or language directed against another person\n",
    "- Incitement of violence or harassment towards any individual, including encouraging a person to commit suicide or to engage in self-harm\n",
    "- Creating additional online accounts in order to harass another person or circumvent a ban\n",
    "- Sexual language and imagery in online communities or in any conference venue, including talks\n",
    "- Insults, put downs, or jokes that are based upon stereotypes, that are exclusionary, or that hold others up for ridicule\n",
    "- Excessive swearing\n",
    "- Unwelcome sexual attention or advances\n",
    "- Unwelcome physical contact, including simulated physical contact (eg, textual descriptions like \"hug\" or \"backrub\") without consent or after a request to stop\n",
    "- Pattern of inappropriate social contact, such as requesting/assuming inappropriate levels of intimacy with others\n",
    "- Sustained disruption of online community discussions, in-person presentations, or other in-person events\n",
    "- Continued one-on-one communication after requests to cease\n",
    "- Other conduct that is inappropriate for a professional audience including people of many different backgrounds\n",
    "  \n",
    "Community members asked to stop any inappropriate behavior are expected to comply immediately."
   ]
  },
  {
   "cell_type": "markdown",
   "id": "7a5c730f-04d2-4802-b42e-8c45da589870",
   "metadata": {},
   "source": [
    "#### Consequences\n",
    "\n",
    "Participants who are asked to stop any inappropriate behavior are expected to comply immediately. This applies to any Group 17 meetings and platforms, either online or in-person. If a participant engages in behavior that violates this code of conduct, the team may warn the offender and or engage the DSCI 522 instructor to investigate the Code of Conduct violation and impose appropriate sanctions."
   ]
  },
  {
   "cell_type": "markdown",
   "id": "7bc2036e-fcec-4b05-9f90-a6997acde23e",
   "metadata": {},
   "source": [
    "#### Incident Reporting Guidelines\n",
    "\n",
    "If someone violates the Code of Conduct during a Group 17 event or in an online space outside of organised events, we ask that you ask the person to stop. If they do not stop the inappropriate behavior immediately, raise the issue with the team and the behavior will be addressed by the rest of the team members. If you do not feel the behavior has been adequately addressed, or it has still not stopped, report it to the Instructor(s). The current instructor(s) of DSCI 522 is(are) Tiffany Timbers. An email message to the email address listed in the course syllabus will be seen by the instructor. To report a DSCI 522 Group 17 code of conduct violation that will not be seen by your instructor, an alternative contact person is Milad Maymay, Director, Program Operations and Student Management, MDS Vancouver. His email is maymay@science.ubc.ca."
   ]
  },
  {
   "cell_type": "markdown",
   "id": "d601233b-e6c2-45e3-841c-065f80398eb1",
   "metadata": {},
   "source": [
    "##### Attribution\n",
    "Derived from:\n",
    "- The DSCI100 code of conduct (https://github.com/UBC-DSCI/dsci-100-student/blob/master/CODE_OF_CONDUCT.md)\n",
    "- The Python community code of conduct (https://www.python.org/psf/conduct/)\n"
   ]
  },
  {
   "cell_type": "code",
   "execution_count": null,
   "id": "62615951-6e1e-41ff-88cf-c1d1fc05e518",
   "metadata": {},
   "outputs": [],
   "source": []
  }
 ],
 "metadata": {
  "kernelspec": {
   "display_name": "Python 3 (ipykernel)",
   "language": "python",
   "name": "python3"
  },
  "language_info": {
   "codemirror_mode": {
    "name": "ipython",
    "version": 3
   },
   "file_extension": ".py",
   "mimetype": "text/x-python",
   "name": "python",
   "nbconvert_exporter": "python",
   "pygments_lexer": "ipython3",
   "version": "3.11.4"
  }
 },
 "nbformat": 4,
 "nbformat_minor": 5
}
