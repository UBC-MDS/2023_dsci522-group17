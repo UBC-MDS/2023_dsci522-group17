{
 "cells": [
  {
   "cell_type": "markdown",
   "id": "da840d48-405e-42b1-b4e4-0ae4c07f0096",
   "metadata": {},
   "source": [
    "# Predicting high-potential FIFA players using individual performance data\n",
    "Merete Lutz, Jake Barnabe, Simon Frew, Waleed Mahmood\n",
    "\n",
    "DSCI 522, Group 17"
   ]
  },
  {
   "cell_type": "code",
   "execution_count": null,
   "id": "892f7a71",
   "metadata": {
    "tags": [
     "remove-input"
    ]
   },
   "outputs": [
    {
     "data": {
      "application/papermill.record/text/html": "<div>\n<style scoped>\n    .dataframe tbody tr th:only-of-type {\n        vertical-align: middle;\n    }\n\n    .dataframe tbody tr th {\n        vertical-align: top;\n    }\n\n    .dataframe thead th {\n        text-align: right;\n    }\n</style>\n<table border=\"1\" class=\"dataframe\">\n  <thead>\n    <tr style=\"text-align: right;\">\n      <th></th>\n      <th>Unnamed: 0</th>\n      <th>dummy</th>\n      <th>Decision Tree</th>\n      <th>KNN</th>\n      <th>RBF SVM</th>\n      <th>Naive Bayes</th>\n      <th>Logistic Regression</th>\n    </tr>\n  </thead>\n  <tbody>\n    <tr>\n      <th>0</th>\n      <td>fit_time</td>\n      <td>0.002 (+/- 0.000)</td>\n      <td>0.037 (+/- 0.001)</td>\n      <td>0.007 (+/- 0.000)</td>\n      <td>1.181 (+/- 0.021)</td>\n      <td>0.006 (+/- 0.000)</td>\n      <td>0.058 (+/- 0.004)</td>\n    </tr>\n    <tr>\n      <th>1</th>\n      <td>score_time</td>\n      <td>0.001 (+/- 0.000)</td>\n      <td>0.001 (+/- 0.000)</td>\n      <td>0.125 (+/- 0.002)</td>\n      <td>0.613 (+/- 0.005)</td>\n      <td>0.001 (+/- 0.000)</td>\n      <td>0.001 (+/- 0.000)</td>\n    </tr>\n    <tr>\n      <th>2</th>\n      <td>test_score</td>\n      <td>0.276 (+/- 0.000)</td>\n      <td>0.822 (+/- 0.005)</td>\n      <td>0.567 (+/- 0.005)</td>\n      <td>0.751 (+/- 0.009)</td>\n      <td>0.570 (+/- 0.007)</td>\n      <td>0.705 (+/- 0.005)</td>\n    </tr>\n    <tr>\n      <th>3</th>\n      <td>train_score</td>\n      <td>0.276 (+/- 0.000)</td>\n      <td>1.000 (+/- 0.000)</td>\n      <td>0.728 (+/- 0.004)</td>\n      <td>0.786 (+/- 0.002)</td>\n      <td>0.570 (+/- 0.002)</td>\n      <td>0.709 (+/- 0.002)</td>\n    </tr>\n  </tbody>\n</table>\n</div>",
      "application/papermill.record/text/plain": "    Unnamed: 0              dummy      Decision Tree                KNN  \\\n0     fit_time  0.002 (+/- 0.000)  0.037 (+/- 0.001)  0.007 (+/- 0.000)   \n1   score_time  0.001 (+/- 0.000)  0.001 (+/- 0.000)  0.125 (+/- 0.002)   \n2   test_score  0.276 (+/- 0.000)  0.822 (+/- 0.005)  0.567 (+/- 0.005)   \n3  train_score  0.276 (+/- 0.000)  1.000 (+/- 0.000)  0.728 (+/- 0.004)   \n\n             RBF SVM        Naive Bayes Logistic Regression  \n0  1.181 (+/- 0.021)  0.006 (+/- 0.000)   0.058 (+/- 0.004)  \n1  0.613 (+/- 0.005)  0.001 (+/- 0.000)   0.001 (+/- 0.000)  \n2  0.751 (+/- 0.009)  0.570 (+/- 0.007)   0.705 (+/- 0.005)  \n3  0.786 (+/- 0.002)  0.570 (+/- 0.002)   0.709 (+/- 0.002)  "
     },
     "metadata": {
      "scrapbook": {
       "mime_prefix": "application/papermill.record/",
       "name": "model_cross_val_scores_df"
      }
     },
     "output_type": "display_data"
    },
    {
     "data": {
      "application/papermill.record/text/html": "<div>\n<style scoped>\n    .dataframe tbody tr th:only-of-type {\n        vertical-align: middle;\n    }\n\n    .dataframe tbody tr th {\n        vertical-align: top;\n    }\n\n    .dataframe thead th {\n        text-align: right;\n    }\n</style>\n<table border=\"1\" class=\"dataframe\">\n  <thead>\n    <tr style=\"text-align: right;\">\n      <th></th>\n      <th>rank_test_score</th>\n      <th>mean_test_score</th>\n      <th>mean_train_score</th>\n      <th>param_svc__C</th>\n      <th>param_svc__gamma</th>\n      <th>mean_fit_time</th>\n    </tr>\n  </thead>\n  <tbody>\n    <tr>\n      <th>0</th>\n      <td>1</td>\n      <td>0.811787</td>\n      <td>0.836351</td>\n      <td>100</td>\n      <td>0.010</td>\n      <td>1.519819</td>\n    </tr>\n    <tr>\n      <th>1</th>\n      <td>2</td>\n      <td>0.779678</td>\n      <td>0.948357</td>\n      <td>100</td>\n      <td>0.100</td>\n      <td>2.956846</td>\n    </tr>\n    <tr>\n      <th>2</th>\n      <td>3</td>\n      <td>0.778169</td>\n      <td>0.876069</td>\n      <td>10</td>\n      <td>0.100</td>\n      <td>1.615262</td>\n    </tr>\n    <tr>\n      <th>3</th>\n      <td>4</td>\n      <td>0.772132</td>\n      <td>0.785127</td>\n      <td>10</td>\n      <td>0.010</td>\n      <td>1.542626</td>\n    </tr>\n    <tr>\n      <th>4</th>\n      <td>5</td>\n      <td>0.752095</td>\n      <td>0.759369</td>\n      <td>100</td>\n      <td>0.001</td>\n      <td>1.706897</td>\n    </tr>\n  </tbody>\n</table>\n</div>",
      "application/papermill.record/text/plain": "   rank_test_score  mean_test_score  mean_train_score  param_svc__C  \\\n0                1         0.811787          0.836351           100   \n1                2         0.779678          0.948357           100   \n2                3         0.778169          0.876069            10   \n3                4         0.772132          0.785127            10   \n4                5         0.752095          0.759369           100   \n\n   param_svc__gamma  mean_fit_time  \n0             0.010       1.519819  \n1             0.100       2.956846  \n2             0.100       1.615262  \n3             0.010       1.542626  \n4             0.001       1.706897  "
     },
     "metadata": {
      "scrapbook": {
       "mime_prefix": "application/papermill.record/",
       "name": "hyperparameter_rankings_df"
      }
     },
     "output_type": "display_data"
    },
    {
     "data": {
      "application/papermill.record/text/html": "<div>\n<style scoped>\n    .dataframe tbody tr th:only-of-type {\n        vertical-align: middle;\n    }\n\n    .dataframe tbody tr th {\n        vertical-align: top;\n    }\n\n    .dataframe thead th {\n        text-align: right;\n    }\n</style>\n<table border=\"1\" class=\"dataframe\">\n  <thead>\n    <tr style=\"text-align: right;\">\n      <th></th>\n      <th>Unnamed: 0</th>\n      <th>Test Score</th>\n    </tr>\n  </thead>\n  <tbody>\n    <tr>\n      <th>0</th>\n      <td>SVC</td>\n      <td>0.808918</td>\n    </tr>\n  </tbody>\n</table>\n</div>",
      "application/papermill.record/text/plain": "  Unnamed: 0  Test Score\n0        SVC    0.808918"
     },
     "metadata": {
      "scrapbook": {
       "mime_prefix": "application/papermill.record/",
       "name": "test_score_df"
      }
     },
     "output_type": "display_data"
    }
   ],
   "source": [
    "import pandas as pd\n",
    "from myst_nb import glue\n",
    "\n",
    "model_cross_val_scores_df = pd.read_csv(\"../results/model_cross_val_scores.csv\", index_col=0)\n",
    "model_cross_val_scores_df.set_index(model_cross_val_scores_df.columns[0])\n",
    "glue(\"model_cross_val_scores_df\", model_cross_val_scores_df, display=False)\n",
    "\n",
    "hyperparameter_rankings_df = pd.read_csv(\"../results/hyperparameter_rankings.csv\", index_col=0).round(3)\n",
    "hyperparameter_rankings_df.index.names = ['Rank test score']\n",
    "hyperparameter_rankings_df.rename(columns = {\n",
    "    'mean_test_score': 'Mean test score:',\n",
    "    'mean_train_score': 'Mean train score:',\n",
    "    'param_svc__C': 'Value of C:',\n",
    "    'param_svc__gamma': 'Value of gamma:',\n",
    "    'mean_fit_time': 'Mean fit time:'\n",
    "}, inplace=True)\n",
    "glue(\"hyperparameter_rankings_df\", hyperparameter_rankings_df, display=False)\n",
    "\n",
    "test_score_df = pd.read_csv(\"../results/test_score.csv\", index_col=0).T.round(3)\n",
    "glue(\"test_score_df\", test_score_df, display=False)"
   ]
  },
  {
   "cell_type": "markdown",
   "id": "84e5a6fc-35f2-48a8-b87a-58f291e367fb",
   "metadata": {},
   "source": [
    "## Summary\n",
    "\n",
    "We attempt to construct a classification model using an RBF SVM classifier algorithm which uses FIFA22 player attribute ratings to classify players' potential with target classes \"Low\", \"Medium\", \"Good\", and \"Great\". The classes are split on the quartiles of the distribution of the FIFA22 potential ratings. Our model performed reasonably well on the test data with an accuracy score of 0.84, with hyperparamters C: 100 & Gamma: 0.01. However, we believe there is still significant room for improvement before the model is ready to be utilized by soccer clubs and coaching staffs to predict the potential of players on the field instead of on the screen. "
   ]
  },
  {
   "cell_type": "markdown",
   "id": "719b8e08-de83-4387-a592-f64ebcee8284",
   "metadata": {},
   "source": [
    "## Introduction\n",
    "\n",
    "One of the most challenging jobs for sports coaches is deciding which players will make a positive addition to the team {cite}`how_to_evaluate_soccer_players`. A key step in evaluating which players to add to a team is predicting how their skill level will change over time. We can think of this in terms of their potential. FIFA22 by EA sports is the world's leading soccer video game. For each year's release, they rate players' skill levels in various aspects of the game such as shooting, passing, defending, etc. and give each player an overall rating as well as a rating of each player's potential. \n",
    "\n",
    "Here we ask if we can use a machine learning model to classify players by their potential given their attribute ratings. We have binned the continuous potential variable into four classes for the purpose of evaluating player talent as \"Low\", \"Medium\", \"Good\", and \"Great\". Answering this question is important as developing a model that can accurately predict the potential of players on FIFA22 could then be applied to the evaluation of soccer players in real life and be employed by coaches and scouts to help soccer clubs make good decisions on which players to add to the team and which to let go. "
   ]
  },
  {
   "cell_type": "markdown",
   "id": "7a555455-df48-4206-80fa-817ced1dcce0",
   "metadata": {},
   "source": [
    "## Methods\n",
    "### Data\n",
    "The data used in this analysis are from the video game FIFA22 by EA Sports. The data were downloaded with authentication from [Kaggle](https://www.kaggle.com/datasets/stefanoleone992/fifa-22-complete-player-dataset) and without authentication from [Sports-Statistics.com](https://sports-statistics.com/sports-data/fifa-2022-dataset-csvs/). Within documentation, these were were scraped from a publicly available website (https://sofifa.com/) with a permissive `robots.txt`. \n",
    "\n",
    "\n",
    "Each row of the dataset corresponds to a single player, and contains biometric information, ratings for various skills, like shooting accuracy, passing, dribbling, and player wages and market value. "
   ]
  },
  {
   "cell_type": "markdown",
   "id": "0b2b3d4c-ae6b-490e-87e7-7fd88d256941",
   "metadata": {},
   "source": [
    "### Analysis\n",
    "The Radial Basis Function (RBF) Support Vector Machine (SVM) RBF SVM model was used to build a classification model to predict whether a player has high potential or not (found in the potential column of the data set). The variables included in our model were selected from the list of different player statistics that are part of the dataset, including the statistics on their `speed`, `dribbling`, `shooting` etc. These are the variables that were used as features to fit the model. The hyperparameters `gamma` and `C` were chosen through the use of the automated optimization method from `scikit-learn` called `RandomizedSearchCV`. The Python programming language {cite}`van2009introduction` was used and the following Python packages were used to perform the analysis: Numpy {cite}`harris2020array`, Pandas {cite}`mckinney2010data`, altair {cite}`vanderplas2018altair`, SkLearn {cite}`pedregosa2011scikit` and SciPy {cite}`virtanen2020scipy`. The code used to perform the analysis and create this report can be found here: <https://github.com/UBC-MDS/2023_dsci522-group17/>."
   ]
  },
  {
   "cell_type": "markdown",
   "id": "5971a43c-294b-4a33-88b7-b31336f5eea5",
   "metadata": {},
   "source": [
    "## Results and Discussion\n",
    "To look at whether each of the predictors might be useful to predict the class of the target variable `potential`, we plotted the distributions of each predictor from the training data set and coloured the distribution by class (Low: blue, medium: orange, Good: red, Great: green). These distributions are drawn up after we have scaled all of the features in the training dataset. In doing this, we can see that most of the distributions, for the features we have filtered to keep, have overlap but their spreads and centers are different, except for `height_cm` and `weight_kg` - which overlap almost completely across the different classes of `potential` - and `value_eur` - which has no distribution for classes other than `great` for `potential`. We chose to not omit these features from our model as they could still prove informative through interactions.\n",
    "\n"
   ]
  },
  {
   "cell_type": "markdown",
   "id": "e95acb46",
   "metadata": {},
   "source": [
    "```{figure} ../results/eda_plots.png\n",
    "---\n",
    "width: 900px\n",
    "name: feature_bars_by_class\n",
    "---\n",
    "Comparison of the distributions of numeric predictors in the training set between the 4 levels of potential.\n",
    "```"
   ]
  },
  {
   "cell_type": "markdown",
   "id": "d8a78c4a",
   "metadata": {},
   "source": [
    "Through our model selection process, we were able to determine that the best model in our case would be an RBF SVM model. To determine the values for the hyperparameters that would give us the best estimator, we used the hyperparameter optimization method `RandomizedSearchCV` to perform a 5-fold cross validation, so that we are able to get the most suitable hyperparamters to obtain the best possible model to estimate and predict the class for `potential`. "
   ]
  },
  {
   "cell_type": "markdown",
   "id": "af866703-ba77-46a5-98cd-d9d992886591",
   "metadata": {},
   "source": [
    "```{glue:figure} model_cross_val_scores_df\n",
    ":figwidth: 750px\n",
    ":name: \"model_cross_val_scores_df\"\n",
    "\n",
    "Time to fit and score as well as test and train scores for each model we looked at.\n",
    "```\n"
   ]
  },
  {
   "cell_type": "markdown",
   "id": "f5cf0d95",
   "metadata": {},
   "source": [
    "We observe that the optimal hyperparameter values are `C: 100` and `Gamma: 0.01`. The training accuracy obtained with these `hyperparameters` is 0.786."
   ]
  },
  {
   "cell_type": "markdown",
   "id": "2d40da0f",
   "metadata": {},
   "source": [
    "```{glue:figure} hyperparameter_rankings_df\n",
    ":figwidth: 750px\n",
    ":name: \"hyperparameter_rankings_df\"\n",
    "\n",
    "The top 5 performing models from hyperparameter optimization.\n",
    "```"
   ]
  },
  {
   "cell_type": "markdown",
   "id": "a5badfe7",
   "metadata": {},
   "source": [
    "And the accuracy of our model is 0.837, i.e. it predicted quite well when run on the test data. However, before being implemented by coaches and scouts to evaluate players on the field, there are still some improvements to be made. These are explored in the next section."
   ]
  },
  {
   "cell_type": "markdown",
   "id": "84aff060",
   "metadata": {},
   "source": [
    "```{glue:figure} test_score_df\n",
    ":figwidth: 300px\n",
    ":name: \"test_score_df\"\n",
    "\n",
    "The final score of our model on the test data.\n",
    "```"
   ]
  },
  {
   "cell_type": "markdown",
   "id": "515b27ab-d247-48d6-a712-2494f663c39d",
   "metadata": {},
   "source": [
    "## Further Improvements\n",
    "To improve our model further in the future, with the hopes of better predicting the potential of a player, there are a few improvements that can be made. First of all, we could include the growth of a player over the years, based on their performance in games. This would somewhat lead to us having a time-series dataset which we can use to create a feature that captures the growth of a player over the years. Second, we would include the effort that the player puts into their training. This can be a beneficial improvement that could lead to better predictive power in our model. Finally, we could include the reporting of the probability estimates of the prediction of the classes in for the `potential` of a player, so that a player scout knows with how much certainty a player might be classified as a `Great` player (for example)."
   ]
  },
  {
   "cell_type": "markdown",
   "id": "1b344e37-b680-42a6-a5cb-56105d4a12b6",
   "metadata": {},
   "source": [
    "### References\n",
    "```{bibliography}\n",
    "```"
   ]
  },
  {
   "cell_type": "code",
   "execution_count": null,
   "id": "5d4a3021-8ce5-4611-b4c7-de01332ba24c",
   "metadata": {},
   "outputs": [],
   "source": []
  }
 ],
 "metadata": {
  "kernelspec": {
   "display_name": "Python 3 (ipykernel)",
   "language": "python",
   "name": "python3"
  },
  "language_info": {
   "codemirror_mode": {
    "name": "ipython",
    "version": 3
   },
   "file_extension": ".py",
   "mimetype": "text/x-python",
   "name": "python",
   "nbconvert_exporter": "python",
   "pygments_lexer": "ipython3",
   "version": "3.11.4"
  }
 },
 "nbformat": 4,
 "nbformat_minor": 5
}
