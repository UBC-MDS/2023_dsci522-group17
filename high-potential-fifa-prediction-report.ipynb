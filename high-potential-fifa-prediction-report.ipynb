{
 "cells": [
  {
   "cell_type": "markdown",
   "id": "da840d48-405e-42b1-b4e4-0ae4c07f0096",
   "metadata": {},
   "source": [
    "# Predicting high-potential FIFA players using individual performance data\n",
    "Merete Lutz, Jake Barnabe, Simon Frew, Waleed Mahmood\n",
    "\n",
    "DSCI 522, Group 17"
   ]
  },
  {
   "cell_type": "markdown",
   "id": "84e5a6fc-35f2-48a8-b87a-58f291e367fb",
   "metadata": {},
   "source": [
    "## Summary\n",
    "\n",
    "We attempt to construct a classification model using an RBF SVM classifier algorithm which uses FIFA22 player attribute ratings to classify players' potential with target classes \"Low\", \"Medium\", \"Good\", and \"Great\". The classes are split on the quartiles of the distribution of the FIFA22 potential ratings. Our model performed reasonably well on the test data with an accuracy score of 0.84, with hyperparamters C: 100 & Gamma: 0.01. However, we believe there is still significant room for improvement before the model is ready to be utilized by soccer clubs and coaching staffs to predict the potential of players on the field instead of on the screen. "
   ]
  },
  {
   "cell_type": "markdown",
   "id": "719b8e08-de83-4387-a592-f64ebcee8284",
   "metadata": {},
   "source": [
    "## Introduction\n",
    "\n",
    "One of the most challenging jobs for sports coaches is deciding which players will make a positive addition to the team (US National Soccer Players, 2023). A key step in evaluating which players to add to a team is predicting how their skill level will change over time. We can think of this in terms of their potential. FIFA22 by EA sports is the world's leading soccer video game. For each year's release, they rate players' skill levels in various aspects of the game such as shooting, passing, defending, etc. and give each player an overall rating as well as a rating of each player's potential. \n",
    "\n",
    "Here we ask if we can use a machine learning model to classify players by their potential given their attribute ratings. Answering this question is important as developing a model that can accurately predict the potential of players on FIFA22 could then be applied to the evaluation of soccer players in real life and be employed by coaches and scouts to help soccer clubs make good decisions on which players to add to the team and which to let go. "
   ]
  },
  {
   "cell_type": "code",
   "execution_count": 1,
   "id": "66a170a3-a419-4742-ad50-72c4d360caef",
   "metadata": {
    "tags": []
   },
   "outputs": [
    {
     "ename": "ModuleNotFoundError",
     "evalue": "No module named 'sklearn'",
     "output_type": "error",
     "traceback": [
      "\u001b[0;31m---------------------------------------------------------------------------\u001b[0m",
      "\u001b[0;31mModuleNotFoundError\u001b[0m                       Traceback (most recent call last)",
      "Cell \u001b[0;32mIn[1], line 11\u001b[0m\n\u001b[1;32m      8\u001b[0m \u001b[38;5;28;01mimport\u001b[39;00m \u001b[38;5;21;01maltair\u001b[39;00m \u001b[38;5;28;01mas\u001b[39;00m \u001b[38;5;21;01malt\u001b[39;00m\n\u001b[1;32m     10\u001b[0m \u001b[38;5;28;01mfrom\u001b[39;00m \u001b[38;5;21;01mhashlib\u001b[39;00m \u001b[38;5;28;01mimport\u001b[39;00m sha1\n\u001b[0;32m---> 11\u001b[0m \u001b[38;5;28;01mfrom\u001b[39;00m \u001b[38;5;21;01msklearn\u001b[39;00m\u001b[38;5;21;01m.\u001b[39;00m\u001b[38;5;21;01mmodel_selection\u001b[39;00m \u001b[38;5;28;01mimport\u001b[39;00m train_test_split\n\u001b[1;32m     12\u001b[0m \u001b[38;5;28;01mfrom\u001b[39;00m \u001b[38;5;21;01msklearn\u001b[39;00m\u001b[38;5;21;01m.\u001b[39;00m\u001b[38;5;21;01mcompose\u001b[39;00m \u001b[38;5;28;01mimport\u001b[39;00m make_column_transformer\n\u001b[1;32m     13\u001b[0m \u001b[38;5;28;01mfrom\u001b[39;00m \u001b[38;5;21;01msklearn\u001b[39;00m\u001b[38;5;21;01m.\u001b[39;00m\u001b[38;5;21;01mdummy\u001b[39;00m \u001b[38;5;28;01mimport\u001b[39;00m DummyClassifier\n",
      "\u001b[0;31mModuleNotFoundError\u001b[0m: No module named 'sklearn'"
     ]
    }
   ],
   "source": [
    "import os \n",
    "import requests\n",
    "import warnings\n",
    "import zipfile\n",
    "\n",
    "import numpy as np\n",
    "import pandas as pd\n",
    "import altair as alt\n",
    "\n",
    "from hashlib import sha1\n",
    "from sklearn.model_selection import train_test_split\n",
    "from sklearn.compose import make_column_transformer\n",
    "from sklearn.dummy import DummyClassifier\n",
    "from sklearn.feature_extraction.text import CountVectorizer\n",
    "from sklearn.linear_model import LogisticRegression\n",
    "from sklearn.preprocessing import StandardScaler\n",
    "from sklearn.model_selection import (\n",
    "    GridSearchCV,\n",
    "    RandomizedSearchCV,\n",
    "    cross_validate,\n",
    "    train_test_split,\n",
    ")\n",
    "from sklearn.neighbors import KNeighborsClassifier\n",
    "from sklearn.naive_bayes import BernoulliNB, MultinomialNB, GaussianNB\n",
    "from sklearn.pipeline import Pipeline, make_pipeline\n",
    "from sklearn.svm import SVC\n",
    "from sklearn.tree import DecisionTreeClassifier\n",
    "from scipy.stats import loguniform, randint, uniform\n",
    "from sklearn.model_selection import RandomizedSearchCV\n",
    "\n",
    "warnings.filterwarnings('ignore', category=FutureWarning)\n",
    "alt.data_transformers.enable(\"vegafusion\");\n",
    "pd.set_option('display.max_rows', 200)"
   ]
  },
  {
   "cell_type": "markdown",
   "id": "7a555455-df48-4206-80fa-817ced1dcce0",
   "metadata": {},
   "source": [
    "## Methods\n",
    "### Data\n",
    "The data used in this analysis are from the video game FIFA22 by EA Sports. The data were downloaded with authentication from [Kaggle](https://www.kaggle.com/datasets/stefanoleone992/fifa-22-complete-player-dataset) and without authentication from [Sports-Statistics.com](https://sports-statistics.com/sports-data/fifa-2022-dataset-csvs/). Within documentation, these were were scraped from a publicly available website (https://sofifa.com/) with a permissive `robots.txt`. \n",
    "\n",
    "\n",
    "Each row of the dataset corresponds to a single player, and contains biometric information, ratings for various skills, like shooting accuracy, passing, dribbling, and player wages and market value. "
   ]
  },
  {
   "cell_type": "markdown",
   "id": "0b2b3d4c-ae6b-490e-87e7-7fd88d256941",
   "metadata": {},
   "source": [
    "### Analysis\n",
    "The Radial Basis Function (RBF) Support Vector Machine (SVM) RBF SVM model was used to build a classification model to predict whether a player has high potential or not (found in the potential column of the data set). The variables included in our model were selected from the list of different player statistics that are part of the dataset, including the statistics on their `speed`, `dribbling`, `shooting` etc. These are the variables that were used as features to fit the model. The hyperparameters `gamma` and `C` were chosen through the use of the automated optimization method from `scikit-learn` called `RandomizedSearchCV`. The Python programming language (Van Rossum and Drake 2009) was used and the following Python packages were used to perform the analysis: Numpy (Harris et al. 2020), Pandas (McKinney 2010), altair (VanderPlas et al., 2018), SkLearn (Pedregosa et al. 2011) and SciPy (Pauli Virtanen, et al., 2020). The code used to perform the analysis and create this report can be found here: <https://github.com/UBC-MDS/2023_dsci522-group17/>."
   ]
  },
  {
   "cell_type": "markdown",
   "id": "5971a43c-294b-4a33-88b7-b31336f5eea5",
   "metadata": {},
   "source": [
    "### Results and Discussion\n",
    "To look at whether each of the predictors might be useful to predict the class of the target variable `potential`, we plotted the distributions of each predictor from the training data set and coloured the distribution by class (Low: blue, medium: orange, Good: red, Great: green). These distributions are drawn up after we have scaled all of the features in the training dataset. In doing this, we can see that most of the distributions, for the features we have filtered to keep, have overlap but their spreads and centers are different, except for `height_cm` and `weight_kg` - which overlap almost completely across the different classes of `potential` - and `value_eur` - which has no distribution for classes other than `great` for `potential` - so we omit them from our model.\n",
    "\n",
    "Through our model selection process, we were able to determine that the best model in our case would be an RBF SVM model. To determine the values for the hyperparameters that would give us the best estimator, we used the hyperparameter optimization method `RandomizedSearchCV` to perform a 5-fold cross validation, so that we are able to get the most suitable hyperparamters to obtain the best possible model to estimate and predict the class for `potential`. \n",
    "\n",
    "We observe that the optimal hyperparameter values are `C: 100` and `Gamma: 0.01`. The training accuracy obtained with these `hyperparameters` is 0.786. And the accuracy of our model is 0.84, i.e. it predicted quite well when run on the test data."
   ]
  },
  {
   "cell_type": "code",
   "execution_count": null,
   "id": "7acbb164-6e9c-4951-b68a-e3b12b680b14",
   "metadata": {
    "tags": []
   },
   "outputs": [],
   "source": [
    "# download dataset\n",
    "# method adapted from: https://github.com/ttimbers/breast_cancer_predictor_py/tree/0.0.1\n",
    "url = \"https://sports-statistics.com/database/fifa/fifa_2022_datasets.zip\"\n",
    "\n",
    "request = requests.get(url)\n",
    "\n",
    "with open(os.path.join(\"data\", \"fifa_2022_datasets.zip\"), \"wb\") as f: \n",
    "    f.write(request.content)\n",
    "    \n",
    "with zipfile.ZipFile(os.path.join(\"data\", \"fifa_2022_datasets.zip\"), \"r\") as zip_file: \n",
    "    zip_file.extract(\"players_22.csv\", path=\"data\")\n",
    "    \n",
    "os.remove(os.path.join(\"data\", \"fifa_2022_datasets.zip\"))\n",
    "\n",
    "# data selection\n",
    "df_raw = pd.read_csv(\"data/players_22.csv\", encoding=\"utf-8\", low_memory=False)\n",
    "df_raw"
   ]
  },
  {
   "cell_type": "code",
   "execution_count": null,
   "id": "fb839d43-913b-4877-b766-9833ce965873",
   "metadata": {},
   "outputs": [],
   "source": [
    "# Selecting columns for analysis\n",
    "df_processed = df_raw.loc[:, [\"potential\",\n",
    "                              \"value_eur\",\n",
    "                              \"wage_eur\", \n",
    "                              \"age\",\n",
    "                              \"height_cm\",\n",
    "                              \"weight_kg\",\n",
    "                              \"weak_foot\",\n",
    "                              \"skill_moves\", \n",
    "                              \"pace\",\n",
    "                              \"shooting\",\n",
    "                              \"passing\",\n",
    "                              \"dribbling\",\n",
    "                              \"defending\",\n",
    "                              \"physic\",]]\n",
    "\n",
    "# Dropping observations with missing values\n",
    "df_processed = df_processed.dropna()"
   ]
  },
  {
   "cell_type": "code",
   "execution_count": null,
   "id": "c091ef86-019f-49b7-903b-0fb7cd752eae",
   "metadata": {},
   "outputs": [],
   "source": [
    "# Binning the target class 'potential' into 4 categories\n",
    "df_processed['potential'] = pd.cut(x=df_processed['potential'], bins=[0, 67, 71, 75, 100], \n",
    "                     labels=['Low', 'Medium', 'Good', 'Great'])\n",
    "df_processed"
   ]
  },
  {
   "cell_type": "code",
   "execution_count": null,
   "id": "ad3957f2-7b29-4ffb-8012-564e01a4e250",
   "metadata": {
    "tags": []
   },
   "outputs": [],
   "source": [
    "# Create the split\n",
    "fifa_train, fifa_test = train_test_split(df_processed, test_size=0.3, random_state=123)\n",
    "\n",
    "fifa_train.to_csv(\"data/processed/fifa_train.csv\")\n",
    "fifa_test.to_csv(\"data/processed/fifa_test.csv\")"
   ]
  },
  {
   "cell_type": "code",
   "execution_count": null,
   "id": "732e56e7-f122-4658-886d-8c95f609dd03",
   "metadata": {},
   "outputs": [],
   "source": [
    "passthrough_feats = [\"potential\"]\n",
    "numeric_feats = ['value_eur', 'wage_eur', 'age', 'height_cm', 'weight_kg',\n",
    "       'weak_foot', 'skill_moves', 'pace', 'shooting', 'passing', 'dribbling',\n",
    "       'defending', 'physic']\n",
    "\n",
    "fifa_preprocessor = make_column_transformer(\n",
    "    (\"passthrough\", passthrough_feats),\n",
    "    (StandardScaler(), numeric_feats), \n",
    ")\n",
    "\n",
    "fifa_preprocessor.fit(fifa_train)\n",
    "scaled_fifa_train = fifa_preprocessor.transform(fifa_train)\n",
    "scaled_fifa_test = fifa_preprocessor.transform(fifa_test)\n",
    "\n",
    "column_names = (passthrough_feats + numeric_feats)\n",
    "scaled_fifa_train = pd.DataFrame(scaled_fifa_train, columns=column_names)\n",
    "scaled_fifa_test = pd.DataFrame(scaled_fifa_train, columns=column_names)\n",
    "\n",
    "scaled_fifa_train.to_csv(\"data/processed/scaled_fifa_train.csv\")\n",
    "scaled_fifa_test.to_csv(\"data/processed/scaled_fifa_test.csv\")\n"
   ]
  },
  {
   "cell_type": "code",
   "execution_count": null,
   "id": "09d5b74e-1985-4aeb-9c6b-d1aacbee4630",
   "metadata": {},
   "outputs": [],
   "source": [
    "stack_order = ['Low', 'Medium', 'Good', 'Great']\n",
    "\n",
    "alt.Chart(scaled_fifa_train).mark_area(opacity=0.5).encode(\n",
    "    alt.X(alt.repeat()).type('quantitative').bin(maxbins=20),\n",
    "    alt.Y('count()', stack=None),\n",
    "    alt.Color('potential').sort(stack_order).title(\"Potential\")\n",
    ").properties(\n",
    "    width = 150,\n",
    "    height = 150\n",
    ").repeat(\n",
    "    numeric_feats,\n",
    "    columns = 4\n",
    ")"
   ]
  },
  {
   "cell_type": "code",
   "execution_count": null,
   "id": "6b9060b2-1bfe-4638-825a-c0477e80845d",
   "metadata": {},
   "outputs": [],
   "source": [
    "X_train = scaled_fifa_train.drop(columns = ['potential'])\n",
    "y_train = scaled_fifa_train['potential']\n",
    "X_test = scaled_fifa_test.drop(columns = ['potential'])\n",
    "y_test = scaled_fifa_test['potential']"
   ]
  },
  {
   "cell_type": "code",
   "execution_count": null,
   "id": "747033ce-f7cc-4bef-a24b-3215c65868ef",
   "metadata": {},
   "outputs": [],
   "source": [
    "# BELOW THIS IS JUST COPY AND PASTED IN FROM THE LAB 4\n",
    "# Looking for the best model\n",
    "models = {\n",
    "    \"dummy\": DummyClassifier(random_state=123), \n",
    "    \"Decision Tree\": DecisionTreeClassifier(random_state=123),\n",
    "    \"KNN\": KNeighborsClassifier(),\n",
    "    \"RBF SVM\": SVC(random_state=123),\n",
    "    \"Naive Bayes\": GaussianNB(),\n",
    "    \"Logistic Regression\": LogisticRegression(max_iter=2000, multi_class=\"ovr\", random_state=123),\n",
    "}"
   ]
  },
  {
   "cell_type": "code",
   "execution_count": null,
   "id": "6aec9a75-88dd-4b1a-a751-97cb1c7eb0aa",
   "metadata": {},
   "outputs": [],
   "source": [
    "# From Leture 2 of 571 at the below link\n",
    "# https://pages.github.ubc.ca/MDS-2023-24/DSCI_571_sup-learn-1_students/lectures/02_ml-fundamentals.html?highlight=mean_std_cross_val_scores\n",
    "def mean_std_cross_val_scores(model, X_train, y_train, **kwargs):\n",
    "    \"\"\"\n",
    "    Returns mean and std of cross validation\n",
    "    \"\"\"\n",
    "    scores = cross_validate(model, X_train, y_train, **kwargs)\n",
    "\n",
    "    mean_scores = pd.DataFrame(scores).mean()\n",
    "    std_scores = pd.DataFrame(scores).std()\n",
    "    out_col = []\n",
    "\n",
    "    for i in range(len(mean_scores)):\n",
    "        out_col.append((f\"%0.3f (+/- %0.3f)\" % (mean_scores[i], std_scores[i])))\n",
    "\n",
    "    return pd.Series(data=out_col, index=mean_scores.index)"
   ]
  },
  {
   "cell_type": "code",
   "execution_count": null,
   "id": "6d08aab5-9544-4249-ac2c-09c0d0df0dbf",
   "metadata": {},
   "outputs": [],
   "source": [
    "results = pd.DataFrame()\n",
    "for name, model in models.items():\n",
    "    results[name] = mean_std_cross_val_scores(model, X_train, y_train, return_train_score=True)\n",
    "results"
   ]
  },
  {
   "cell_type": "code",
   "execution_count": null,
   "id": "7487734b-469d-4ab3-9129-0961aa9bfddc",
   "metadata": {},
   "outputs": [],
   "source": [
    "param_dist = {\n",
    "    \"svc__C\": [0.001, 0.01, 0.1, 1, 10, 100],\n",
    "    \"svc__gamma\": [0.001, 0.01, 0.1, 1, 10, 100]\n",
    "}\n",
    "\n",
    "pipe = make_pipeline(SVC(random_state=123))\n",
    "\n",
    "random_search = RandomizedSearchCV(pipe,\n",
    "                           param_dist,\n",
    "                           n_iter=36,\n",
    "                           n_jobs=-1,\n",
    "                           return_train_score=True,\n",
    "                           random_state=123)\n",
    "                                   \n",
    "\n",
    "random_search.fit(X_train, y_train)\n",
    "\n",
    "pd.DataFrame(random_search.cv_results_)[\n",
    "    [\n",
    "        \"mean_test_score\",\n",
    "        \"mean_train_score\",        \n",
    "        \"param_svc__C\",\n",
    "        \"param_svc__gamma\",\n",
    "        \"mean_fit_time\",\n",
    "        \"rank_test_score\",\n",
    "    ]\n",
    "].set_index(\"rank_test_score\").sort_index().iloc[:5]"
   ]
  },
  {
   "cell_type": "code",
   "execution_count": null,
   "id": "54c9481f-c248-42aa-a38f-2af736ecb0ac",
   "metadata": {},
   "outputs": [],
   "source": [
    "pd.DataFrame(results[\"RBF SVM\"])"
   ]
  },
  {
   "cell_type": "code",
   "execution_count": null,
   "id": "47ee003d-add5-4d3d-8101-86a55da9bf2b",
   "metadata": {},
   "outputs": [],
   "source": [
    "best_model = random_search.best_estimator_\n",
    "best_model"
   ]
  },
  {
   "cell_type": "code",
   "execution_count": null,
   "id": "1d58deaa-6edc-41ad-b814-ffdd015624ff",
   "metadata": {},
   "outputs": [],
   "source": [
    "best_model.score(X_test, y_test)"
   ]
  },
  {
   "cell_type": "markdown",
   "id": "515b27ab-d247-48d6-a712-2494f663c39d",
   "metadata": {},
   "source": [
    "## Further Improvements\n",
    "To improve our model further in the future, with the hopes of better predicting the potential of a player, there are a few improvements that can be made. First of all, we could include the growth of a player over the years, based on their performance in games. This would somewhat lead to us having a time-series dataset which we can use to create a feature that captures the growth of a player over the years. Second, we would include the effort that the player puts into their training. This can be a beneficial improvement that could lead to better predictive power in our model. Finally, we could include the reporting of the probability estimates of the prediction of the classes in for the `potential` of a player, so that a player scout knows with how much certainty a player might be classified as a `Great` player (for example)."
   ]
  },
  {
   "cell_type": "markdown",
   "id": "180c80a4-2546-49c5-a60d-d035cff87562",
   "metadata": {
    "tags": []
   },
   "source": [
    "### References\n",
    "US National Soccer Players. (2023). (rep.). How to evaluate soccer players. Retrieved from https://ussoccerplayers.com/soccer-training-tips/evaluating-players. \n",
    "\n",
    "Harris, C.R. et al., 2020. Array programming with NumPy. Nature, 585, pp.357–362.\n",
    "\n",
    "McKinney, Wes. 2010. “Data Structures for Statistical Computing in Python.” In Proceedings of the 9th Python in Science Conference, edited by Stéfan van der Walt and Jarrod Millman, 51–56.\n",
    "\n",
    "Pauli Virtanen, et al., and SciPy 1.0 Contributors. (2020) SciPy 1.0: Fundamental Algorithms for Scientific Computing in Python. Nature Methods, 17(3), 261-272.\n",
    "\n",
    "Pedregosa, F. et al., 2011. Scikit-learn: Machine learning in Python. Journal of machine learning research, 12(Oct), pp.2825–2830.\n",
    "\n",
    "VanderPlas et al., (2018). Altair: Interactive Statistical Visualizations for Python. Journal of Open Source Software, 3(32), 1057, https://doi.org/10.21105/joss.01057\n",
    "\n",
    "Van Rossum, Guido, and Fred L. Drake. 2009. Python 3 Reference Manual. Scotts Valley, CA: CreateSpace."
   ]
  }
 ],
 "metadata": {
  "kernelspec": {
   "display_name": "Python 3 (ipykernel)",
   "language": "python",
   "name": "python3"
  },
  "language_info": {
   "codemirror_mode": {
    "name": "ipython",
    "version": 3
   },
   "file_extension": ".py",
   "mimetype": "text/x-python",
   "name": "python",
   "nbconvert_exporter": "python",
   "pygments_lexer": "ipython3",
   "version": "3.11.4"
  }
 },
 "nbformat": 4,
 "nbformat_minor": 5
}
