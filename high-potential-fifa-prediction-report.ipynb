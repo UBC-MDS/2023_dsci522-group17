{
 "cells": [
  {
   "cell_type": "markdown",
   "id": "da840d48-405e-42b1-b4e4-0ae4c07f0096",
   "metadata": {},
   "source": [
    "# Predicting high-potential FIFA players using individual performance data\n",
    "Merete Lutz, Jake Barnabe, Simon Frew, Waleed Mahmood\n",
    "\n",
    "DSCI 522, Group 17"
   ]
  },
  {
   "cell_type": "markdown",
   "id": "84e5a6fc-35f2-48a8-b87a-58f291e367fb",
   "metadata": {},
   "source": [
    "## Introduction"
   ]
  },
  {
   "cell_type": "markdown",
   "id": "3f33d099-4e53-44b3-b6a4-3b288ddd3dd3",
   "metadata": {},
   "source": [
    "## Methods"
   ]
  },
  {
   "cell_type": "markdown",
   "id": "d702e7b0-6135-4df7-9844-c9104736b23b",
   "metadata": {},
   "source": [
    "### Data"
   ]
  },
  {
   "cell_type": "markdown",
   "id": "6dc33089-bc34-4e97-86d5-11efc8df7879",
   "metadata": {},
   "source": [
    "### Analysis"
   ]
  },
  {
   "cell_type": "markdown",
   "id": "ff69f89b-932c-4237-9909-76aa57143fcd",
   "metadata": {},
   "source": [
    "## Results & Discussion"
   ]
  },
  {
   "cell_type": "code",
   "execution_count": 1,
   "id": "66a170a3-a419-4742-ad50-72c4d360caef",
   "metadata": {
    "tags": []
   },
   "outputs": [
    {
     "ename": "ModuleNotFoundError",
     "evalue": "No module named 'altair'",
     "output_type": "error",
     "traceback": [
      "\u001b[0;31m---------------------------------------------------------------------------\u001b[0m",
      "\u001b[0;31mModuleNotFoundError\u001b[0m                       Traceback (most recent call last)",
      "Cell \u001b[0;32mIn[1], line 14\u001b[0m\n\u001b[1;32m     12\u001b[0m \u001b[38;5;28;01mimport\u001b[39;00m \u001b[38;5;21;01mnumpy\u001b[39;00m \u001b[38;5;28;01mas\u001b[39;00m \u001b[38;5;21;01mnp\u001b[39;00m\n\u001b[1;32m     13\u001b[0m \u001b[38;5;28;01mimport\u001b[39;00m \u001b[38;5;21;01mpandas\u001b[39;00m \u001b[38;5;28;01mas\u001b[39;00m \u001b[38;5;21;01mpd\u001b[39;00m\n\u001b[0;32m---> 14\u001b[0m \u001b[38;5;28;01mimport\u001b[39;00m \u001b[38;5;21;01maltair\u001b[39;00m \u001b[38;5;28;01mas\u001b[39;00m \u001b[38;5;21;01malt\u001b[39;00m\n\u001b[1;32m     17\u001b[0m \u001b[38;5;28;01mfrom\u001b[39;00m \u001b[38;5;21;01mhashlib\u001b[39;00m \u001b[38;5;28;01mimport\u001b[39;00m sha1\n\u001b[1;32m     18\u001b[0m \u001b[38;5;28;01mfrom\u001b[39;00m \u001b[38;5;21;01msklearn\u001b[39;00m\u001b[38;5;21;01m.\u001b[39;00m\u001b[38;5;21;01mmodel_selection\u001b[39;00m \u001b[38;5;28;01mimport\u001b[39;00m train_test_split\n",
      "\u001b[0;31mModuleNotFoundError\u001b[0m: No module named 'altair'"
     ]
    }
   ],
   "source": [
    "import warnings\n",
    "\n",
    "# Ignore FutureWarnings\n",
    "warnings.simplefilter(action='ignore', category=FutureWarning)\n",
    "\n",
    "\n",
    "import os \n",
    "import requests\n",
    "import warnings\n",
    "import zipfile\n",
    "\n",
    "import numpy as np\n",
    "import pandas as pd\n",
    "import altair as alt\n",
    "\n",
    "\n",
    "from hashlib import sha1\n",
    "from sklearn.model_selection import train_test_split\n",
    "from sklearn.dummy import DummyClassifier\n",
    "from sklearn.feature_extraction.text import CountVectorizer\n",
    "from sklearn.linear_model import LogisticRegression\n",
    "from sklearn.preprocessing import StandardScaler\n",
    "from sklearn.model_selection import (\n",
    "    GridSearchCV,\n",
    "    RandomizedSearchCV,\n",
    "    cross_validate,\n",
    "    train_test_split,\n",
    ")\n",
    "from sklearn.neighbors import KNeighborsClassifier\n",
    "from sklearn.naive_bayes import BernoulliNB, MultinomialNB, GaussianNB\n",
    "from sklearn.pipeline import Pipeline, make_pipeline\n",
    "from sklearn.svm import SVC\n",
    "from sklearn.tree import DecisionTreeClassifier\n",
    "\n",
    "warnings.filterwarnings('ignore', category=FutureWarning)\n",
    "alt.data_transformers.enable(\"vegafusion\");\n",
    "pd.set_option('display.max_rows', 200)"
   ]
  },
  {
   "cell_type": "code",
   "execution_count": null,
   "id": "7acbb164-6e9c-4951-b68a-e3b12b680b14",
   "metadata": {
    "tags": []
   },
   "outputs": [],
   "source": [
    "# download dataset\n",
    "# method adapted from: https://github.com/ttimbers/breast_cancer_predictor_py/tree/0.0.1\n",
    "url = \"https://sports-statistics.com/database/fifa/fifa_2022_datasets.zip\"\n",
    "\n",
    "request = requests.get(url)\n",
    "\n",
    "with open(os.path.join(\"data\", \"fifa_2022_datasets.zip\"), \"wb\") as f: \n",
    "    f.write(request.content)\n",
    "with zipfile.ZipFile(os.path.join(\"data\", \"fifa_2022_datasets.zip\"), \"r\") as zip_file: \n",
    "    zip_file.extract(\"players_22.csv\", path=\"data\")\n",
    "os.remove(os.path.join(\"data\", \"fifa_2022_datasets.zip\"))"
   ]
  },
  {
   "cell_type": "code",
   "execution_count": null,
   "id": "c7f55e94-bb56-4af2-ba94-cf5fcd2b8b89",
   "metadata": {},
   "outputs": [],
   "source": [
    "df"
   ]
  },
  {
   "cell_type": "code",
   "execution_count": null,
   "id": "898836c0-33c5-4f38-8d70-9a9b9a26a82e",
   "metadata": {
    "tags": []
   },
   "outputs": [],
   "source": [
    "# data selection\n",
    "df = pd.read_csv(\"data/players_22.csv\", encoding=\"utf-8\", low_memory=False)\n",
    "\n",
    "df"
   ]
  },
  {
   "cell_type": "code",
   "execution_count": null,
   "id": "8a2896ba-e4fc-4604-982b-32ffdfad4584",
   "metadata": {},
   "outputs": [],
   "source": []
  },
  {
   "cell_type": "code",
   "execution_count": null,
   "id": "fb839d43-913b-4877-b766-9833ce965873",
   "metadata": {},
   "outputs": [],
   "source": [
    "df = df.loc[:, [\"potential\",\n",
    "                #\"player_positions\",\n",
    "                \"value_eur\",\n",
    "        \"wage_eur\", \n",
    "        \"age\", \n",
    "        \"height_cm\", \n",
    "        \"weight_kg\", \n",
    "        \"weak_foot\", \n",
    "        \"skill_moves\", \n",
    "        'pace',\n",
    "        'shooting',\n",
    "        'passing',\n",
    "        'dribbling',\n",
    "        'defending',\n",
    "        'physic',]]\n",
    "\n",
    "df = df.dropna()"
   ]
  },
  {
   "cell_type": "code",
   "execution_count": null,
   "id": "c5ef1471-b5d4-4146-80a2-15097724def8",
   "metadata": {},
   "outputs": [],
   "source": [
    "df.describe()"
   ]
  },
  {
   "cell_type": "code",
   "execution_count": null,
   "id": "0842e48c-a843-4378-8797-aa85d8daf59e",
   "metadata": {},
   "outputs": [],
   "source": []
  },
  {
   "cell_type": "code",
   "execution_count": null,
   "id": "c091ef86-019f-49b7-903b-0fb7cd752eae",
   "metadata": {},
   "outputs": [],
   "source": [
    "df['target'] = pd.cut(x=df['potential'], bins=[0, 67, 71, 75, 100], \n",
    "                     labels=['Low', 'Medium', 'Good', 'Great'])"
   ]
  },
  {
   "cell_type": "code",
   "execution_count": null,
   "id": "3f9ac9a8-f084-41e6-82aa-a0655409a4bc",
   "metadata": {},
   "outputs": [],
   "source": [
    "df"
   ]
  },
  {
   "cell_type": "code",
   "execution_count": null,
   "id": "676d9777-3809-4eab-9eb9-4b6c79bb4795",
   "metadata": {},
   "outputs": [],
   "source": [
    "df = df.drop(['potential'], axis=1)"
   ]
  },
  {
   "cell_type": "code",
   "execution_count": null,
   "id": "e80cfda9-7c9f-4a9f-b965-dfea74e7e8c2",
   "metadata": {},
   "outputs": [],
   "source": []
  },
  {
   "cell_type": "code",
   "execution_count": null,
   "id": "2789017f-409b-4d43-bc22-53bd58d4803d",
   "metadata": {},
   "outputs": [],
   "source": []
  },
  {
   "cell_type": "code",
   "execution_count": null,
   "id": "a47da039-c4dc-4765-bb27-5e5559a6b18f",
   "metadata": {},
   "outputs": [],
   "source": []
  },
  {
   "cell_type": "code",
   "execution_count": null,
   "id": "ad3957f2-7b29-4ffb-8012-564e01a4e250",
   "metadata": {
    "tags": []
   },
   "outputs": [],
   "source": [
    "train_df, test_df = train_test_split(df, test_size=0.3, random_state=123)\n",
    "train_df"
   ]
  },
  {
   "cell_type": "code",
   "execution_count": null,
   "id": "732e56e7-f122-4658-886d-8c95f609dd03",
   "metadata": {},
   "outputs": [],
   "source": []
  },
  {
   "cell_type": "code",
   "execution_count": null,
   "id": "cdcdbc8d-9138-45a8-8de4-7ea967a24d19",
   "metadata": {
    "tags": []
   },
   "outputs": [],
   "source": [
    "df_numeric = df.select_dtypes(include = ['int64', 'float64'])\n",
    "df_numeric_list = df_numeric.columns\n",
    "print(df_numeric_list)\n",
    "# initialize an empty list to store the distribution of each numeric column\n",
    "charts_numeric = []\n",
    "\n",
    "# create a visualization of the distribution of each numeric column and store it in the `charts` list\n",
    "for column in df_numeric_list:\n",
    "    chart = alt.Chart(df).mark_bar().encode(\n",
    "        alt.X(column, bin=alt.Bin(maxbins=20), title=f'{column}'),\n",
    "        alt.Y('count()', title='Frequency')\n",
    "    ).properties(\n",
    "        width=150,\n",
    "        height=100,\n",
    "        title=f'Distribution of {column}'\n",
    "    )\n",
    "    charts_numeric.append(chart)\n",
    "length = len(charts_numeric)\n",
    "# # Create a 4x4 grid with all the distributions\n",
    "# alt.vconcat(\n",
    "#     alt.hconcat(*charts_numeric[:round(length/4)]),\n",
    "#     alt.hconcat(*charts_numeric[round(length/4):round(length/2)]),\n",
    "#     alt.hconcat(*charts_numeric[round(length/2):round(3*length/4)]),\n",
    "#     alt.hconcat(*charts_numeric[round(3*length/4):length-1])\n",
    "# ).configure_title(fontSize=10).configure_axis(titleFontSize=8)\n",
    "\n",
    "alt.vconcat(\n",
    "    alt.hconcat(*charts_numeric[:4]),\n",
    "    alt.hconcat(*charts_numeric[4:8]),\n",
    "    alt.hconcat(*charts_numeric[8:12]),\n",
    "    alt.hconcat(*charts_numeric[12:16])\n",
    ").configure_title(fontSize=10).configure_axis(titleFontSize=8)"
   ]
  },
  {
   "cell_type": "code",
   "execution_count": null,
   "id": "2acd9d36-8b9d-48ae-a3ed-7ad77b56e20a",
   "metadata": {},
   "outputs": [],
   "source": []
  },
  {
   "cell_type": "code",
   "execution_count": null,
   "id": "6b9060b2-1bfe-4638-825a-c0477e80845d",
   "metadata": {},
   "outputs": [],
   "source": [
    "X_train = train_df.drop(columns = ['target'])\n",
    "y_train = train_df['target']\n",
    "X_test = test_df.drop(columns = ['target'])\n",
    "y_test = test_df['target']"
   ]
  },
  {
   "cell_type": "code",
   "execution_count": null,
   "id": "846febe1-c191-4402-9a71-9dfccdb87f0d",
   "metadata": {},
   "outputs": [],
   "source": [
    "# BELOW THIS IS JUST COPY AND PASTED IN FROM THE LAB 4"
   ]
  },
  {
   "cell_type": "code",
   "execution_count": null,
   "id": "747033ce-f7cc-4bef-a24b-3215c65868ef",
   "metadata": {},
   "outputs": [],
   "source": [
    "models = {\n",
    "    \"dummy\": DummyClassifier(random_state=123), \n",
    "    \"Decision Tree\": DecisionTreeClassifier(random_state=123),\n",
    "    \"KNN\": KNeighborsClassifier(),\n",
    "    \"RBF SVM\": SVC(random_state=123),\n",
    "    \"Naive Bayes\": GaussianNB(),\n",
    "    \"Logistic Regression\": LogisticRegression(max_iter=2000, multi_class=\"ovr\", random_state=123),\n",
    "}"
   ]
  },
  {
   "cell_type": "code",
   "execution_count": null,
   "id": "6aec9a75-88dd-4b1a-a751-97cb1c7eb0aa",
   "metadata": {},
   "outputs": [],
   "source": [
    "# From Leture 2 of 571 at the below link\n",
    "# https://pages.github.ubc.ca/MDS-2023-24/DSCI_571_sup-learn-1_students/lectures/02_ml-fundamentals.html?highlight=mean_std_cross_val_scores\n",
    "def mean_std_cross_val_scores(model, X_train, y_train, **kwargs):\n",
    "    \"\"\"\n",
    "    Returns mean and std of cross validation\n",
    "    \"\"\"\n",
    "    scores = cross_validate(model, X_train, y_train, **kwargs)\n",
    "\n",
    "    mean_scores = pd.DataFrame(scores).mean()\n",
    "    std_scores = pd.DataFrame(scores).std()\n",
    "    out_col = []\n",
    "\n",
    "    for i in range(len(mean_scores)):\n",
    "        out_col.append((f\"%0.3f (+/- %0.3f)\" % (mean_scores[i], std_scores[i])))\n",
    "\n",
    "    return pd.Series(data=out_col, index=mean_scores.index)"
   ]
  },
  {
   "cell_type": "code",
   "execution_count": null,
   "id": "0d877541-52fc-4029-8281-30146831b255",
   "metadata": {},
   "outputs": [],
   "source": []
  },
  {
   "cell_type": "code",
   "execution_count": null,
   "id": "6d08aab5-9544-4249-ac2c-09c0d0df0dbf",
   "metadata": {},
   "outputs": [],
   "source": [
    "results = pd.DataFrame()\n",
    "for name, model in models.items():\n",
    "    pipe = make_pipeline(StandardScaler(),\n",
    "                         model)\n",
    "    results[name] = mean_std_cross_val_scores(pipe, X_train, y_train, return_train_score=True)"
   ]
  },
  {
   "cell_type": "code",
   "execution_count": null,
   "id": "8fa7f281-0822-4f60-9282-32412964e730",
   "metadata": {},
   "outputs": [],
   "source": [
    "results"
   ]
  },
  {
   "cell_type": "code",
   "execution_count": null,
   "id": "7487734b-469d-4ab3-9129-0961aa9bfddc",
   "metadata": {},
   "outputs": [],
   "source": [
    "from scipy.stats import loguniform, randint, uniform\n",
    "from sklearn.model_selection import RandomizedSearchCV\n",
    "\n",
    "param_dist = {\n",
    "    \"svc__C\": [0.001, 0.01, 0.1, 1, 10, 100],\n",
    "    \"svc__gamma\": [0.001, 0.01, 0.1, 1, 10, 100]\n",
    "}\n",
    "pipe = make_pipeline(StandardScaler(),\n",
    "                     SVC(random_state=123))\n",
    "\n",
    "random_search = RandomizedSearchCV(pipe,\n",
    "                                   param_dist, \n",
    "                                   n_iter=10, \n",
    "                                   n_jobs=-1, \n",
    "                                   return_train_score=True,\n",
    "                                   random_state=123)\n",
    "                                   \n",
    "\n",
    "random_search.fit(X_train, y_train)\n",
    "\n",
    "pd.DataFrame(random_search.cv_results_)[\n",
    "    [\n",
    "        \"mean_test_score\",\n",
    "        \"mean_train_score\",        \n",
    "        \"param_svc__C\",\n",
    "        \"param_svc__gamma\",\n",
    "        \"mean_fit_time\",\n",
    "        \"rank_test_score\",\n",
    "    ]\n",
    "].set_index(\"rank_test_score\").sort_index().iloc[:5]"
   ]
  },
  {
   "cell_type": "code",
   "execution_count": null,
   "id": "54c9481f-c248-42aa-a38f-2af736ecb0ac",
   "metadata": {},
   "outputs": [],
   "source": [
    "results"
   ]
  },
  {
   "cell_type": "code",
   "execution_count": null,
   "id": "47ee003d-add5-4d3d-8101-86a55da9bf2b",
   "metadata": {},
   "outputs": [],
   "source": [
    "best_model = random_search.best_estimator_\n",
    "best_model"
   ]
  },
  {
   "cell_type": "code",
   "execution_count": null,
   "id": "1d58deaa-6edc-41ad-b814-ffdd015624ff",
   "metadata": {},
   "outputs": [],
   "source": [
    "best_model.score(X_test, y_test)"
   ]
  },
  {
   "cell_type": "markdown",
   "id": "180c80a4-2546-49c5-a60d-d035cff87562",
   "metadata": {
    "tags": []
   },
   "source": [
    "## References"
   ]
  },
  {
   "cell_type": "code",
   "execution_count": null,
   "id": "f86c0de1-a6a9-4fef-9e8f-2814534c1183",
   "metadata": {},
   "outputs": [],
   "source": []
  }
 ],
 "metadata": {
  "kernelspec": {
   "display_name": "Python [conda env:group17]",
   "language": "python",
   "name": "conda-env-group17-py"
  },
  "language_info": {
   "codemirror_mode": {
    "name": "ipython",
    "version": 3
   },
   "file_extension": ".py",
   "mimetype": "text/x-python",
   "name": "python",
   "nbconvert_exporter": "python",
   "pygments_lexer": "ipython3",
   "version": "3.12.0"
  }
 },
 "nbformat": 4,
 "nbformat_minor": 5
}
