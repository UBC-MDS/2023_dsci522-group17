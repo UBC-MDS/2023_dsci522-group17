{
 "cells": [
  {
   "cell_type": "code",
   "execution_count": null,
   "id": "360c2890-b15f-4b76-bb29-704aec829aa2",
   "metadata": {},
   "outputs": [],
   "source": [
    "## Sample Dataset\n",
    "sample_data = pd.DataFrame({\n",
    "    'Age': [25, 25,25, 30, 35, 40, 45],\n",
    "    'Income': [50000,50000,50000, 60000, 75000, 90000, 100000],\n",
    "    'Score': [80, 85,75,65, 90, 92, 88],\n",
    "    'Target': ['good', 'bad', 'good', 'good', 'bad', 'bad', 'bad'],\n",
    "    'Laugh': ['haha', 'hahahah', 'aha', 'hahahah', 'aha', 'hahahah', 'aha']\n",
    "})"
   ]
  }
 ],
 "metadata": {
  "kernelspec": {
   "display_name": "522_group_proj",
   "language": "python",
   "name": "522_group_proj"
  },
  "language_info": {
   "codemirror_mode": {
    "name": "ipython",
    "version": 3
   },
   "file_extension": ".py",
   "mimetype": "text/x-python",
   "name": "python",
   "nbconvert_exporter": "python",
   "pygments_lexer": "ipython3",
   "version": "3.12.0"
  }
 },
 "nbformat": 4,
 "nbformat_minor": 5
}
